{
 "cells": [
  {
   "cell_type": "code",
   "execution_count": null,
   "metadata": {
    "id": "hWFrjXsRUdNq"
   },
   "outputs": [],
   "source": [
    "#Set()\n",
    "#Sets items are unchangeable,unordered and unindexed. You can remove or add new items."
   ]
  },
  {
   "cell_type": "code",
   "execution_count": 1,
   "metadata": {
    "colab": {
     "base_uri": "https://localhost:8080/"
    },
    "id": "FfmG236-Vcgw",
    "outputId": "2db09f7a-598c-4f14-8902-99741fff2c41"
   },
   "outputs": [
    {
     "name": "stdout",
     "output_type": "stream",
     "text": [
      "{False, 2, 3, 'apple', 'cherry', 'banana'}\n"
     ]
    }
   ],
   "source": [
    "set={'apple','banana','cherry',False ,2,0,3}\n",
    "print(set)"
   ]
  },
  {
   "cell_type": "code",
   "execution_count": 3,
   "metadata": {
    "colab": {
     "base_uri": "https://localhost:8080/"
    },
    "id": "jLL3Q_oAVmaP",
    "outputId": "004da949-12f2-453b-f02a-9a866ee738c8"
   },
   "outputs": [
    {
     "name": "stdout",
     "output_type": "stream",
     "text": [
      "True\n"
     ]
    }
   ],
   "source": [
    "set={'apple','banana','cherry'}\n",
    "print('banana' in set)"
   ]
  },
  {
   "cell_type": "code",
   "execution_count": null,
   "metadata": {
    "colab": {
     "base_uri": "https://localhost:8080/"
    },
    "id": "FKOy9JCKXKku",
    "outputId": "b2773970-c1d3-486e-e04b-c17a7ef274c6"
   },
   "outputs": [
    {
     "name": "stdout",
     "output_type": "stream",
     "text": [
      "False\n"
     ]
    }
   ],
   "source": [
    "set={'apple','banana','cherry'}\n",
    "print('orange' in set)"
   ]
  },
  {
   "cell_type": "code",
   "execution_count": null,
   "metadata": {
    "colab": {
     "base_uri": "https://localhost:8080/"
    },
    "id": "ji6pYQg1XTJx",
    "outputId": "bc13bd96-ca60-4371-9308-c956f9303359"
   },
   "outputs": [
    {
     "name": "stdout",
     "output_type": "stream",
     "text": [
      "True\n"
     ]
    }
   ],
   "source": [
    "set={'apple','banana','cherry'}\n",
    "print('orange'  not in set)"
   ]
  },
  {
   "cell_type": "code",
   "execution_count": 5,
   "metadata": {
    "colab": {
     "base_uri": "https://localhost:8080/"
    },
    "id": "ElrGwY-JYv4U",
    "outputId": "3a72970b-291f-4757-e4fe-8784456103cd"
   },
   "outputs": [
    {
     "name": "stdout",
     "output_type": "stream",
     "text": [
      "{'cherry', 'orange', 'apple', 'banana'}\n"
     ]
    }
   ],
   "source": [
    " set={'apple','banana','cherry'}\n",
    " set.add('orange')\n",
    " print(set)"
   ]
  },
  {
   "cell_type": "code",
   "execution_count": 7,
   "metadata": {
    "colab": {
     "base_uri": "https://localhost:8080/"
    },
    "id": "rBZxT2ZPaLUO",
    "outputId": "1c4ca343-bb66-465b-f26e-3612640b3ff7"
   },
   "outputs": [
    {
     "name": "stdout",
     "output_type": "stream",
     "text": [
      "{'apple', 'pineapple', 'papaya', 'cherry', 'mango', 'banana'}\n"
     ]
    }
   ],
   "source": [
    "set={'apple','banana','cherry'}\n",
    "fruits={'pineapple','mango','papaya'}\n",
    "set.update(fruits)\n",
    "print(set)"
   ]
  },
  {
   "cell_type": "code",
   "execution_count": 11,
   "metadata": {
    "colab": {
     "base_uri": "https://localhost:8080/"
    },
    "id": "bZp9ZrGaa1Zh",
    "outputId": "c209c60c-cc92-4a76-eee8-ef5206c78608"
   },
   "outputs": [
    {
     "name": "stdout",
     "output_type": "stream",
     "text": [
      "{'kiwi', 'cherry', 'orange', 'apple', 'banana'}\n"
     ]
    }
   ],
   "source": [
    "set={'apple','banana','cherry'}\n",
    "fruits=['kiwi','orange']\n",
    "set.update(fruits)\n",
    "print(set)"
   ]
  },
  {
   "cell_type": "code",
   "execution_count": null,
   "metadata": {
    "colab": {
     "base_uri": "https://localhost:8080/"
    },
    "id": "hjCaMcwObeq3",
    "outputId": "f33f1dc7-9751-4f64-efd0-9c2d5732abb6"
   },
   "outputs": [
    {
     "name": "stdout",
     "output_type": "stream",
     "text": [
      "{'apple', 'cherry'}\n"
     ]
    }
   ],
   "source": [
    "set={'apple','banana','cherry'}\n",
    "set.remove('banana')\n",
    "print(set)"
   ]
  },
  {
   "cell_type": "code",
   "execution_count": null,
   "metadata": {
    "colab": {
     "base_uri": "https://localhost:8080/"
    },
    "id": "-_0L0wiVcD0t",
    "outputId": "6de4ab5d-4149-41ba-ff90-085a7fcfdddb"
   },
   "outputs": [
    {
     "name": "stdout",
     "output_type": "stream",
     "text": [
      "{'apple', 'cherry'}\n"
     ]
    }
   ],
   "source": [
    "set={'apple','banana','cherry'}\n",
    "set.discard('banana')\n",
    "print(set)"
   ]
  },
  {
   "cell_type": "code",
   "execution_count": 13,
   "metadata": {
    "colab": {
     "base_uri": "https://localhost:8080/",
     "height": 176
    },
    "id": "utyq0KGhcp0h",
    "outputId": "a963832c-9975-4553-ca6b-3c369a8de718"
   },
   "outputs": [
    {
     "name": "stdout",
     "output_type": "stream",
     "text": [
      "{'cherry', 'apple'}\n"
     ]
    }
   ],
   "source": [
    "set={'apple','banana','cherry'}\n",
    "set.remove('banana')\n",
    "print(set)"
   ]
  },
  {
   "cell_type": "code",
   "execution_count": null,
   "metadata": {
    "colab": {
     "base_uri": "https://localhost:8080/"
    },
    "id": "hCStF8Sfc8rP",
    "outputId": "3d232043-f091-4150-ff97-3e017ccb3955"
   },
   "outputs": [
    {
     "name": "stdout",
     "output_type": "stream",
     "text": [
      "{'apple', 'banana', 'cherry'}\n"
     ]
    }
   ],
   "source": [
    "set={'apple','banana','cherry'}\n",
    "set.discard('orange')\n",
    "print(set)"
   ]
  },
  {
   "cell_type": "code",
   "execution_count": null,
   "metadata": {
    "colab": {
     "base_uri": "https://localhost:8080/"
    },
    "id": "1mU5P8fjdEcc",
    "outputId": "f8c97230-eded-42f7-891b-3e9ea75f0c28"
   },
   "outputs": [
    {
     "name": "stdout",
     "output_type": "stream",
     "text": [
      "apple\n",
      "{'banana', 'cherry'}\n"
     ]
    }
   ],
   "source": [
    "set={'apple','banana','cherry'}\n",
    "x=set.pop()\n",
    "print(x)\n",
    "print(set)"
   ]
  },
  {
   "cell_type": "code",
   "execution_count": null,
   "metadata": {
    "colab": {
     "base_uri": "https://localhost:8080/"
    },
    "id": "vAkgGm6udS4F",
    "outputId": "cd93c7e7-3bf3-4fa8-eaf3-fe6e6ca725d4"
   },
   "outputs": [
    {
     "name": "stdout",
     "output_type": "stream",
     "text": [
      "None\n"
     ]
    }
   ],
   "source": [
    "set={'apple','banana','cherry'}\n",
    "x=set.clear()\n",
    "print(x)\n"
   ]
  },
  {
   "cell_type": "code",
   "execution_count": null,
   "metadata": {
    "colab": {
     "base_uri": "https://localhost:8080/"
    },
    "id": "jSch6Ylhd5xs",
    "outputId": "f6416e1d-b90b-4020-8be7-adb9c2e1af1d"
   },
   "outputs": [
    {
     "name": "stdout",
     "output_type": "stream",
     "text": [
      "<class 'set'>\n"
     ]
    }
   ],
   "source": [
    "set={'apple','banana','cherry'}\n",
    "del set\n",
    "print(set)"
   ]
  },
  {
   "cell_type": "code",
   "execution_count": null,
   "metadata": {
    "id": "IpW22JcuYcWG"
   },
   "outputs": [],
   "source": [
    "#Joining Sets"
   ]
  },
  {
   "cell_type": "code",
   "execution_count": 15,
   "metadata": {
    "colab": {
     "base_uri": "https://localhost:8080/"
    },
    "id": "SWbpC5QxYpDN",
    "outputId": "e00436a0-f541-4d24-d000-5d942fc5df3b"
   },
   "outputs": [
    {
     "name": "stdout",
     "output_type": "stream",
     "text": [
      "{2, 3, 'B', 'A', 4, 'C'}\n"
     ]
    }
   ],
   "source": [
    "#Union()\n",
    "set1={\"A\",\"B\",\"C\"}\n",
    "set2={2,3,4}\n",
    "set3=set1.union(set2)\n",
    "print(set3)"
   ]
  },
  {
   "cell_type": "markdown",
   "metadata": {
    "id": "AHi3DQRwYbVA"
   },
   "source": []
  },
  {
   "cell_type": "code",
   "execution_count": null,
   "metadata": {
    "colab": {
     "base_uri": "https://localhost:8080/"
    },
    "id": "UxYNDr1IeolA",
    "outputId": "c215c68c-134e-49d2-eeee-291cbf5a0abb"
   },
   "outputs": [
    {
     "name": "stdout",
     "output_type": "stream",
     "text": [
      "{'X', 6, 7, 8, 'Y', 'Z'}\n"
     ]
    }
   ],
   "source": [
    "#| Operator\n",
    "set1={\"X\",\"Y\",\"Z\"}\n",
    "set2={6,7,8}\n",
    "set3=set1|set2\n",
    "print(set3)"
   ]
  },
  {
   "cell_type": "code",
   "execution_count": null,
   "metadata": {
    "colab": {
     "base_uri": "https://localhost:8080/"
    },
    "id": "i-C_HEsbYXjo",
    "outputId": "45522128-59e2-4e97-b723-a0283170159d"
   },
   "outputs": [
    {
     "name": "stdout",
     "output_type": "stream",
     "text": [
      "{'patlu', 'Motu', 'Kong', 6, 7, 8, 'Y', 'Z', 'X', 'King'}\n"
     ]
    }
   ],
   "source": [
    "#Joining Multiple Sets\n",
    "set1={\"X\",\"Y\",\"Z\"}\n",
    "set2={6,7,8}\n",
    "set3={\"Motu\",'patlu'}\n",
    "set4={'King','Kong'}\n",
    "largestset=set1.union(set2,set3,set4)\n",
    "print(largestset)"
   ]
  },
  {
   "cell_type": "code",
   "execution_count": null,
   "metadata": {
    "colab": {
     "base_uri": "https://localhost:8080/"
    },
    "id": "trESAWIKaPEe",
    "outputId": "5eecbfea-898c-4215-94ba-dfed8aac02b1"
   },
   "outputs": [
    {
     "name": "stdout",
     "output_type": "stream",
     "text": [
      "{'patlu', 'Motu', 'Kong', 6, 7, 8, 'Y', 'Z', 'X', 'King'}\n"
     ]
    }
   ],
   "source": [
    "set1={\"X\",\"Y\",\"Z\"}\n",
    "set2={6,7,8}\n",
    "set3={\"Motu\",'patlu'}\n",
    "set4={'King','Kong'}\n",
    "largestset=set1|set2|set3|set4\n",
    "print(largestset)"
   ]
  },
  {
   "cell_type": "code",
   "execution_count": null,
   "metadata": {
    "colab": {
     "base_uri": "https://localhost:8080/"
    },
    "id": "-ymITDtuaoRA",
    "outputId": "66df6521-d171-4a56-e0ce-f155abc78c5b"
   },
   "outputs": [
    {
     "name": "stdout",
     "output_type": "stream",
     "text": [
      "{'X', 6, 7, 8, 'Y', 'Z'}\n"
     ]
    }
   ],
   "source": [
    "#Update ()\n",
    "set1={\"X\",\"Y\",\"Z\"}\n",
    "set2={6,7,8}\n",
    "set1.update(set2)\n",
    "print(set1)"
   ]
  },
  {
   "cell_type": "code",
   "execution_count": null,
   "metadata": {
    "colab": {
     "base_uri": "https://localhost:8080/"
    },
    "id": "vc7E8aLobCuJ",
    "outputId": "d9c05c97-ad11-41ac-f108-277f858f68cc"
   },
   "outputs": [
    {
     "name": "stdout",
     "output_type": "stream",
     "text": [
      "set()\n"
     ]
    }
   ],
   "source": [
    "#Intersection Method (Common)\n",
    "set1={\"X\",\"Y\",\"Z\"}\n",
    "set2={6,7,8}\n",
    "set3=set1.intersection(set2)\n",
    "print(set3)"
   ]
  },
  {
   "cell_type": "code",
   "execution_count": null,
   "metadata": {
    "colab": {
     "base_uri": "https://localhost:8080/"
    },
    "id": "2rHyIkEBbW4P",
    "outputId": "2ccf2546-0e5e-4bd9-9c32-822349b46529"
   },
   "outputs": [
    {
     "name": "stdout",
     "output_type": "stream",
     "text": [
      "{'X'}\n"
     ]
    }
   ],
   "source": [
    "# & OPerator (Common)\n",
    "set1={\"X\",\"Y\",\"Z\"}\n",
    "set2={6,7,8,'X'}\n",
    "set3=set1 & set2\n",
    "print(set3)\n"
   ]
  },
  {
   "cell_type": "code",
   "execution_count": null,
   "metadata": {
    "colab": {
     "base_uri": "https://localhost:8080/"
    },
    "id": "1N93c5e-cN0E",
    "outputId": "faf50463-f620-4bae-9012-dda1926d52e2"
   },
   "outputs": [
    {
     "name": "stdout",
     "output_type": "stream",
     "text": [
      "{'Y', 'Z'}\n"
     ]
    }
   ],
   "source": [
    "#Difference Method\n",
    "set1={\"X\",\"Y\",\"Z\"}\n",
    "set2={6,7,8,'X'}\n",
    "set3=set1.difference(set2)\n",
    "print(set3)"
   ]
  },
  {
   "cell_type": "code",
   "execution_count": null,
   "metadata": {
    "colab": {
     "base_uri": "https://localhost:8080/"
    },
    "id": "TN4tfs3RchTc",
    "outputId": "2256427c-222a-4b9e-f41b-503839ea4f06"
   },
   "outputs": [
    {
     "name": "stdout",
     "output_type": "stream",
     "text": [
      "{8, 6, 7}\n"
     ]
    }
   ],
   "source": [
    "set1={\"X\",\"Y\",\"Z\"}\n",
    "set2={6,7,8,'X'}\n",
    "set3=set2.difference(set1)\n",
    "print(set3)\n"
   ]
  },
  {
   "cell_type": "code",
   "execution_count": null,
   "metadata": {
    "id": "qYLVPysBcwdN"
   },
   "outputs": [],
   "source": []
  }
 ],
 "metadata": {
  "colab": {
   "provenance": []
  },
  "kernelspec": {
   "display_name": "Python 3 (ipykernel)",
   "language": "python",
   "name": "python3"
  },
  "language_info": {
   "codemirror_mode": {
    "name": "ipython",
    "version": 3
   },
   "file_extension": ".py",
   "mimetype": "text/x-python",
   "name": "python",
   "nbconvert_exporter": "python",
   "pygments_lexer": "ipython3",
   "version": "3.12.4"
  }
 },
 "nbformat": 4,
 "nbformat_minor": 4
}
