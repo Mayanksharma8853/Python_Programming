{
 "cells": [
  {
   "cell_type": "code",
   "execution_count": 11,
   "id": "a7c21d78-3d15-430e-8e90-d5948c849979",
   "metadata": {},
   "outputs": [
    {
     "name": "stdout",
     "output_type": "stream",
     "text": [
      "hello world\n"
     ]
    }
   ],
   "source": [
    "print(\"hello world\")"
   ]
  },
  {
   "cell_type": "code",
   "execution_count": 13,
   "id": "d841f463-faac-4e38-b45f-fa24c9fd9461",
   "metadata": {},
   "outputs": [
    {
     "name": "stdout",
     "output_type": "stream",
     "text": [
      "welcome to AAFT\n"
     ]
    }
   ],
   "source": [
    "print(\"welcome to AAFT\")"
   ]
  },
  {
   "cell_type": "code",
   "execution_count": 15,
   "id": "01318e93-b703-470b-a785-feb625ceb23c",
   "metadata": {},
   "outputs": [
    {
     "name": "stdout",
     "output_type": "stream",
     "text": [
      "40\n"
     ]
    }
   ],
   "source": [
    "#programm for addition of two numbers\n",
    "num1=10\n",
    "num2=30\n",
    "num3=num1+num2\n",
    "print(num3)"
   ]
  },
  {
   "cell_type": "code",
   "execution_count": 17,
   "id": "0658feb1-da1a-4ccb-ac26-62df5b522851",
   "metadata": {},
   "outputs": [
    {
     "name": "stdout",
     "output_type": "stream",
     "text": [
      "40\n"
     ]
    }
   ],
   "source": [
    "#programm for subtraction of two number\n",
    "num1= 100\n",
    "num2=60\n",
    "num3=(num1-num2)\n",
    "print(num3)"
   ]
  },
  {
   "cell_type": "code",
   "execution_count": 21,
   "id": "80260eb6-aa67-44df-91ba-aff7cc707b07",
   "metadata": {},
   "outputs": [
    {
     "name": "stdout",
     "output_type": "stream",
     "text": [
      "25.0\n"
     ]
    }
   ],
   "source": [
    "#programm for division of two number\n",
    "num1=125\n",
    "num2=5\n",
    "num3=num1/num2\n",
    "print(num3)"
   ]
  },
  {
   "cell_type": "code",
   "execution_count": 63,
   "id": "15ea432b-3daa-4ce6-9b29-de394064823e",
   "metadata": {},
   "outputs": [
    {
     "name": "stdout",
     "output_type": "stream",
     "text": [
      "500\n"
     ]
    }
   ],
   "source": [
    "#programm for multiplication of two numbers \n",
    "num1=10\n",
    "num2=50\n",
    "num3=num1*num2\n",
    "print(num3)"
   ]
  },
  {
   "cell_type": "code",
   "execution_count": 65,
   "id": "2b7c3fc1-583d-4765-8be2-baac13745503",
   "metadata": {},
   "outputs": [
    {
     "name": "stdout",
     "output_type": "stream",
     "text": [
      "<class 'int'>\n"
     ]
    }
   ],
   "source": [
    "x=5\n",
    "print(type(x))"
   ]
  },
  {
   "cell_type": "code",
   "execution_count": 67,
   "id": "78689954-166b-457a-acba-711a3fd079fa",
   "metadata": {},
   "outputs": [
    {
     "name": "stdout",
     "output_type": "stream",
     "text": [
      "<class 'str'>\n"
     ]
    }
   ],
   "source": [
    "y=\"aaft\"\n",
    "print(type(y))"
   ]
  },
  {
   "cell_type": "code",
   "execution_count": 69,
   "id": "b92e262f-e8e3-4dd0-831f-605bbbdc173f",
   "metadata": {},
   "outputs": [
    {
     "name": "stdout",
     "output_type": "stream",
     "text": [
      "7\n"
     ]
    }
   ],
   "source": [
    "x=\"welcome\"\n",
    "print(len(x))"
   ]
  },
  {
   "cell_type": "code",
   "execution_count": 71,
   "id": "2b52f19c-b0c7-42bd-8ef9-0327631d9a41",
   "metadata": {},
   "outputs": [
    {
     "name": "stdout",
     "output_type": "stream",
     "text": [
      "<class 'int'>\n"
     ]
    }
   ],
   "source": [
    "myVAR=70\n",
    "print(type(myVAR))"
   ]
  },
  {
   "cell_type": "code",
   "execution_count": 73,
   "id": "c4aa1025-f7c6-4af1-93d8-8d6f053b0a9e",
   "metadata": {},
   "outputs": [
    {
     "name": "stdout",
     "output_type": "stream",
     "text": [
      "80\n"
     ]
    }
   ],
   "source": [
    "x=10\n",
    "y=90\n",
    "xy=y-x\n",
    "print(xy)"
   ]
  },
  {
   "cell_type": "code",
   "execution_count": 79,
   "id": "6972e36a-0d9e-4295-9f6e-2fc143064671",
   "metadata": {},
   "outputs": [
    {
     "name": "stdout",
     "output_type": "stream",
     "text": [
      "<class 'float'>\n"
     ]
    }
   ],
   "source": [
    "x=20.5\n",
    "print(type(x))"
   ]
  },
  {
   "cell_type": "code",
   "execution_count": 81,
   "id": "33ea3622-b229-4159-8d9d-0af02cfec13a",
   "metadata": {},
   "outputs": [
    {
     "name": "stdout",
     "output_type": "stream",
     "text": [
      "<class 'complex'>\n"
     ]
    }
   ],
   "source": [
    "x=1j\n",
    "print(type(x))"
   ]
  },
  {
   "cell_type": "code",
   "execution_count": 83,
   "id": "6a5e6200-7585-4f58-aa03-ffa5ae7ca76c",
   "metadata": {},
   "outputs": [
    {
     "name": "stdout",
     "output_type": "stream",
     "text": [
      "<class 'list'>\n"
     ]
    }
   ],
   "source": [
    "x=[\"apple\",\"banana\",\"cherry\"]\n",
    "print(type(x))"
   ]
  },
  {
   "cell_type": "code",
   "execution_count": 85,
   "id": "4064c841-7d65-4cea-87bb-42e2e8544fe3",
   "metadata": {},
   "outputs": [
    {
     "name": "stdout",
     "output_type": "stream",
     "text": [
      "<class 'tuple'>\n"
     ]
    }
   ],
   "source": [
    "x=(\"apple\",\"banana\",\"pears\")\n",
    "print(type(x))"
   ]
  },
  {
   "cell_type": "code",
   "execution_count": 87,
   "id": "8d93735f-d793-4f78-99fd-0e646c41f399",
   "metadata": {},
   "outputs": [
    {
     "name": "stdout",
     "output_type": "stream",
     "text": [
      "<class 'tuple'>\n"
     ]
    }
   ],
   "source": [
    "x=(0,6)\n",
    "print(type(x))"
   ]
  },
  {
   "cell_type": "code",
   "execution_count": 89,
   "id": "d254e670-072c-4671-b6d1-9b31f25f96f3",
   "metadata": {},
   "outputs": [
    {
     "name": "stdout",
     "output_type": "stream",
     "text": [
      "<class 'range'>\n"
     ]
    }
   ],
   "source": [
    "x=range(6)\n",
    "print(type(x))"
   ]
  },
  {
   "cell_type": "code",
   "execution_count": 91,
   "id": "34eb6c99-2ccd-44e3-90a9-8bad1be37273",
   "metadata": {},
   "outputs": [
    {
     "name": "stdout",
     "output_type": "stream",
     "text": [
      "<class 'dict'>\n"
     ]
    }
   ],
   "source": [
    "x={\"name\":\"John\",\"age\":36}\n",
    "print(type(x))"
   ]
  },
  {
   "cell_type": "code",
   "execution_count": 93,
   "id": "ed28f1ce-bcdd-4de2-94da-267af4f95174",
   "metadata": {},
   "outputs": [
    {
     "name": "stdout",
     "output_type": "stream",
     "text": [
      "<class 'set'>\n"
     ]
    }
   ],
   "source": [
    "x={\"apple\",\"banana\",\"cherry\"}\n",
    "print(type(x))"
   ]
  },
  {
   "cell_type": "code",
   "execution_count": 97,
   "id": "7b5bf750-1ed0-469b-b536-d2a8e5d0e973",
   "metadata": {},
   "outputs": [
    {
     "name": "stdout",
     "output_type": "stream",
     "text": [
      "True\n"
     ]
    }
   ],
   "source": [
    "print(10>9)"
   ]
  },
  {
   "cell_type": "code",
   "execution_count": 99,
   "id": "3abe50eb-4966-4347-8970-fb2bfe9ce837",
   "metadata": {},
   "outputs": [
    {
     "name": "stdout",
     "output_type": "stream",
     "text": [
      "False\n"
     ]
    }
   ],
   "source": [
    "print(10==9)"
   ]
  },
  {
   "cell_type": "code",
   "execution_count": 101,
   "id": "8555fc6c-6389-4904-920d-5c31aee501d6",
   "metadata": {},
   "outputs": [
    {
     "name": "stdout",
     "output_type": "stream",
     "text": [
      "False\n"
     ]
    }
   ],
   "source": [
    "print(10<9)"
   ]
  },
  {
   "cell_type": "code",
   "execution_count": 103,
   "id": "4b53155f-47c3-47f1-9f77-24182e2ea01a",
   "metadata": {},
   "outputs": [
    {
     "name": "stdout",
     "output_type": "stream",
     "text": [
      "False\n"
     ]
    }
   ],
   "source": [
    "print(100090943885589728835>38923204823808138384957)"
   ]
  },
  {
   "cell_type": "code",
   "execution_count": 140,
   "id": "4b05fff8-d087-4f78-9102-8ba2874dc3f6",
   "metadata": {},
   "outputs": [
    {
     "name": "stdout",
     "output_type": "stream",
     "text": [
      "3125\n"
     ]
    }
   ],
   "source": [
    "a=25\n",
    "b=125\n",
    "print(a*b)"
   ]
  },
  {
   "cell_type": "code",
   "execution_count": 148,
   "id": "fd3b9338-3d15-4d9d-bc32-700c8a2c436e",
   "metadata": {},
   "outputs": [
    {
     "name": "stdout",
     "output_type": "stream",
     "text": [
      "('apple', 'banana', 'cherry', 'apple', 'banana', 'cherry')\n"
     ]
    }
   ],
   "source": [
    "fruits=(\"apple\",\"banana\",\"cherry\")\n",
    "t1=fruits*2\n",
    "print(t1)"
   ]
  },
  {
   "cell_type": "code",
   "execution_count": 150,
   "id": "f7c975c7-e8dd-4c31-a11f-56382bcd6d91",
   "metadata": {},
   "outputs": [
    {
     "name": "stdout",
     "output_type": "stream",
     "text": [
      "(1, 2, 3, 4, 5, 6, 7, 1, 2, 3, 4, 5, 6, 7)\n"
     ]
    }
   ],
   "source": [
    "t1=(1,2,3,4,5,6,7)\n",
    "t2=t1*2\n",
    "print(t2)"
   ]
  },
  {
   "cell_type": "code",
   "execution_count": 152,
   "id": "92dad0cd-3401-4b5f-8914-da004ac2d492",
   "metadata": {},
   "outputs": [
    {
     "name": "stdout",
     "output_type": "stream",
     "text": [
      "4\n"
     ]
    }
   ],
   "source": [
    "t1=(1,2,3,4,5,6,7,7,7,7,8)\n",
    "x=t1.count(7)\n",
    "print(x)"
   ]
  },
  {
   "cell_type": "code",
   "execution_count": 154,
   "id": "f7f8bcac-8a0d-4eb6-a0ad-2a2b857f73d7",
   "metadata": {},
   "outputs": [
    {
     "name": "stdout",
     "output_type": "stream",
     "text": [
      "2\n"
     ]
    }
   ],
   "source": [
    "t1=(\"apple\",\"banana\",\"apple\",\"cherry\")\n",
    "x=t1.count(\"apple\")\n",
    "print(x)"
   ]
  },
  {
   "cell_type": "code",
   "execution_count": 156,
   "id": "d84cd7a6-9a98-4bd6-9957-f73b16f107c3",
   "metadata": {},
   "outputs": [
    {
     "name": "stdout",
     "output_type": "stream",
     "text": [
      "1\n"
     ]
    }
   ],
   "source": [
    "x=(1,2,3,4,5,6,7)\n",
    "y=x.index(2)\n",
    "print(y)"
   ]
  },
  {
   "cell_type": "code",
   "execution_count": 158,
   "id": "02f5e30e-9076-4425-8a6f-73a02fb197a0",
   "metadata": {},
   "outputs": [
    {
     "name": "stdout",
     "output_type": "stream",
     "text": [
      "1\n"
     ]
    }
   ],
   "source": [
    "t1=(\"banana\",\"apple\",\"cherry\")\n",
    "x=t1.index(\"apple\")\n",
    "print(x)"
   ]
  },
  {
   "cell_type": "code",
   "execution_count": null,
   "id": "478df928-9b89-40c5-bdf5-ae119abdf517",
   "metadata": {},
   "outputs": [],
   "source": []
  }
 ],
 "metadata": {
  "kernelspec": {
   "display_name": "Python 3 (ipykernel)",
   "language": "python",
   "name": "python3"
  },
  "language_info": {
   "codemirror_mode": {
    "name": "ipython",
    "version": 3
   },
   "file_extension": ".py",
   "mimetype": "text/x-python",
   "name": "python",
   "nbconvert_exporter": "python",
   "pygments_lexer": "ipython3",
   "version": "3.12.4"
  }
 },
 "nbformat": 4,
 "nbformat_minor": 5
}
